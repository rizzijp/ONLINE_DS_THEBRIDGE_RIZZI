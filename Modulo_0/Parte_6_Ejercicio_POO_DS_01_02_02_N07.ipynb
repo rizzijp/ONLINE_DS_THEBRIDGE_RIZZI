{
  "cells": [
    {
      "cell_type": "markdown",
      "metadata": {
        "id": "liorA-1ZSU4y"
      },
      "source": [
        "# Ejercicios Clases y Objetos"
      ]
    },
    {
      "cell_type": "markdown",
      "metadata": {
        "id": "5xXUz5l9SU4z"
      },
      "source": [
        "## Ejercicio 1\n",
        "Somos una empresa que tiene varias tiendas de electrodomesticos. Necesitamos un programa para manejar las tiendas, ver las ventas que han tenido, cuántos empleados hay, etc... Para ello vamos a modelizar la tienda en una clase, que tendrá las siguientes características:\n",
        "* Nombre clase: \"Tienda\"\n",
        "* Atributos comunes:\n",
        "    * Tipo: \"Electrodomésticos\"\n",
        "    * Abierta: True\n",
        "* Atributos propios de cada tienda:\n",
        "    * Nombre - String\n",
        "    * Dirección - String\n",
        "    * Número de empleados - int\n",
        "    * Ventas ultimos 3 meses - Lista de 3 numeros\n",
        "* Método para calcular las ventas de todos los meses, que devuelva un numero con todas las ventas.\n",
        "* Método que calcula la media de ventas de los ultimos meses, por empleado\n",
        "* Método que devuelve en un string el nombre de la tienda, junto con su dirección.\n",
        "* Método que obtiene las ventas del último mes.\n",
        "* Método para dar una proyección de las ventas en caso de haber invertido X dinero en marketing en esa tienda. Siendo X el parámetro de entrada. Si X es menor de 1000, las ventas de los ultimos 3 meses hubiesen sido de (1.2 x ventas), si es mayor o igual de 1000, las ventas hubiesen sido de (1.5 x venta). El método reescribe el atributo de ventas en los últimos 3 meses, y además devuelve las ventas con el aumento.\n",
        "\n",
        "Se pide:\n",
        "1. Implementar la clase \"Tienda\"\n",
        "2. Crear tres tiendas con datos inventados\n",
        "3. Comprueba en al menos una de ellas, todo lo implementado en la clase tienda (sus atributos, media de ventas, ventas/empleado...)\n",
        "3. Calcular las ventas del último mes de todas las tiendas. Para ello usa el bucle `for`\n",
        "4. Imprime por pantalla los nombres de las tiendas cuya dirección lleve el string \"Avenida\"\n",
        "5. Seguro que ya has hecho este apartado... Documenta la clase :)"
      ]
    },
    {
      "cell_type": "code",
      "execution_count": 10,
      "metadata": {
        "id": "5cLQcLxfSU4z"
      },
      "outputs": [],
      "source": [
        "class Tienda:\n",
        "    # Atributos comunes\n",
        "    tipo = \"Electrodomésticos\"\n",
        "    abierta = True\n",
        "    # Constructor (Atributos propios)\n",
        "    def __init__(self, nombre, direccion, num_empleados, ventas_ultimos_3_meses):\n",
        "        self.nombre = nombre\n",
        "        self.direccion = direccion\n",
        "        self.num_empleados = num_empleados\n",
        "        self.ventas_ultimos_3_meses = ventas_ultimos_3_meses\n",
        "    # Metodo para calcular ventas totales\n",
        "    def ventas_totales(self):\n",
        "        return sum(self.ventas_ultimos_3_meses)\n",
        "    # Metodo para calcular la media de ventas por empleado\n",
        "    def ventas_por_empleado(self):\n",
        "        return self.ventas_totales() / self.num_empleados\n",
        "    # Metodo que devuelve un string con el nombre de la tienda junto con su dirección\n",
        "    def nombre_direccion(self):\n",
        "        return \"Nombre Tienda: \" + self.nombre + \", Dirección: \" + self.direccion\n",
        "    # Metodo que devuelve las ventas del último mes\n",
        "    def ventas_ultimo_mes(self):\n",
        "        return self.ventas_ultimos_3_meses[-1]\n",
        "    # Metodo para dar una proyección de las ventas en caso de haber invertido X dinero en marketing en esa tienda.\n",
        "    def proyeccion_ventas(self, x):\n",
        "        if x < 1000:\n",
        "          ventas_proyectadas = [venta * 1.2 for venta in self.ventas_ultimos_3_meses]\n",
        "        else:\n",
        "          ventas_proyectadas = [venta * 1.5 for venta in self.ventas_ultimos_3_meses]\n",
        "        self.ventas_ultimos_3_meses = ventas_proyectadas\n",
        "        return ventas_proyectadas"
      ]
    },
    {
      "cell_type": "code",
      "source": [
        "tienda1 = Tienda(\"Tienda1\", \"Calle 1\", 10, [100, 200, 300])\n",
        "tienda2 = Tienda(\"Tienda2\", \"Avenida 2\", 20, [200, 400, 600])\n",
        "tienda3 = Tienda(\"Tienda3\", \"Avenida 3\", 30, [300, 600, 900])"
      ],
      "metadata": {
        "id": "Qnec7X-2bzrQ"
      },
      "execution_count": 20,
      "outputs": []
    },
    {
      "cell_type": "code",
      "source": [
        "# Atributos comunes\n",
        "print(tienda1.tipo)\n",
        "print(tienda1.abierta)\n",
        "# Atributos propios\n",
        "print(tienda1.nombre)\n",
        "print(tienda1.direccion)\n",
        "print(tienda1.num_empleados)\n",
        "print(tienda1.ventas_ultimos_3_meses)\n",
        "# Ventas totales\n",
        "print(tienda1.ventas_totales())\n",
        "# Ventas por empleado\n",
        "print(tienda1.ventas_por_empleado())\n",
        "# Nombre y dirección\n",
        "print(tienda1.nombre_direccion())\n",
        "# Ventas del último mes\n",
        "print(tienda1.ventas_ultimo_mes())\n",
        "# Proyeccion de ventas con inversion\n",
        "print(tienda1.proyeccion_ventas(500))"
      ],
      "metadata": {
        "colab": {
          "base_uri": "https://localhost:8080/"
        },
        "id": "14PtFHbKcNrH",
        "outputId": "697b9b85-7ba3-4d3f-a85b-479252e35c69"
      },
      "execution_count": 12,
      "outputs": [
        {
          "output_type": "stream",
          "name": "stdout",
          "text": [
            "Electrodomésticos\n",
            "True\n",
            "Tienda1\n",
            "Calle 1\n",
            "10\n",
            "[100, 200, 300]\n",
            "600\n",
            "60.0\n",
            "Nombre Tienda: Tienda1, Dirección: Calle 1\n",
            "300\n",
            "[120.0, 240.0, 360.0]\n"
          ]
        }
      ]
    },
    {
      "cell_type": "code",
      "source": [
        "print(tienda1.ventas_ultimo_mes(), type(tienda1.ventas_ultimo_mes()))\n",
        "print(tienda2.ventas_ultimo_mes(), type(tienda2.ventas_ultimo_mes()))\n",
        "print(tienda3.ventas_ultimo_mes(), type(tienda3.ventas_ultimo_mes()))"
      ],
      "metadata": {
        "colab": {
          "base_uri": "https://localhost:8080/"
        },
        "id": "_R2hiKkui8Ke",
        "outputId": "f5af7384-0c67-431b-d33b-a30f5ca2878f"
      },
      "execution_count": 17,
      "outputs": [
        {
          "output_type": "stream",
          "name": "stdout",
          "text": [
            "360.0 <class 'float'>\n",
            "600 <class 'int'>\n",
            "900 <class 'int'>\n"
          ]
        }
      ]
    },
    {
      "cell_type": "code",
      "source": [
        "total_ventas_ultimo_mes = 0\n",
        "for tienda in [tienda1, tienda2, tienda3]:\n",
        "    print(tienda.nombre, tienda.ventas_ultimo_mes())\n",
        "    total_ventas_ultimo_mes += tienda.ventas_ultimo_mes()\n",
        "print(total_ventas_ultimo_mes)"
      ],
      "metadata": {
        "colab": {
          "base_uri": "https://localhost:8080/"
        },
        "id": "yBIo3IW5hUKA",
        "outputId": "3ea08cb5-51fa-4157-e689-aacf09478943"
      },
      "execution_count": 15,
      "outputs": [
        {
          "output_type": "stream",
          "name": "stdout",
          "text": [
            "Tienda1 360.0\n",
            "Tienda2 600\n",
            "Tienda3 900\n",
            "1860.0\n"
          ]
        }
      ]
    },
    {
      "cell_type": "code",
      "source": [
        "for tienda in [tienda1, tienda2, tienda3]:\n",
        "    if \"Avenida\" in tienda.direccion:\n",
        "        print(tienda.nombre)"
      ],
      "metadata": {
        "colab": {
          "base_uri": "https://localhost:8080/"
        },
        "id": "N4ZMbJP9jd2h",
        "outputId": "18b45f3c-95a6-4f59-8ff3-564c8d5ebedb"
      },
      "execution_count": 21,
      "outputs": [
        {
          "output_type": "stream",
          "name": "stdout",
          "text": [
            "Tienda2\n",
            "Tienda3\n"
          ]
        }
      ]
    },
    {
      "cell_type": "markdown",
      "metadata": {
        "id": "WEBq7EpsSU40"
      },
      "source": [
        "## Ejercicio 2\n",
        "En este ejercicio vamos a implementar una clase *Perro* en Python. La clase tiene las siguientes características:\n",
        "* Cosas que sabemos seguro que tiene un perro\n",
        "    * Tiene 4 patas\n",
        "    * 2 orejas\n",
        "    * 2 ojos\n",
        "    * Una velocidad de 0. Por defecto, el perro está parado\n",
        "* Cuando se inicialice:\n",
        "    * El perro será de una determinada raza\n",
        "    * Por defecto tendrá pelo \"Marrón\", a no ser que se diga lo contrario.\n",
        "    * Por defecto no tendrá dueño, a no ser que se diga lo contrario.\n",
        "    \n",
        "* Dispondrá también de un método llamado andar, que tiene un argumento de entrada (aumento_velocidad). Este valor se le sumará a la velocidad que ya llevaba el perro.\n",
        "* Necesita otro método (parar), donde pondremos la velocidad a 0.\n",
        "* Otro método llamado \"ladrar\", que tendrá un argumento de entrada, y la salida será el siguiente string: \"GUAU!\" + el argumento de entrada.\n",
        "\n",
        "\n",
        "Se pide:\n",
        "* Implementa la clase *Perro*\n",
        "* Crea un objeto de tipo *Perro*, sin dueño\n",
        "* Comprueba que están bien todos sus atributos\n",
        "* Prueba que ande, y comprueba su velocidad\n",
        "* Páralo\n",
        "* Documenta la clase *Perro*"
      ]
    },
    {
      "cell_type": "code",
      "execution_count": 36,
      "metadata": {
        "id": "DpEWvbwGSU40"
      },
      "outputs": [],
      "source": [
        "class Perro:\n",
        "  # Atributos comunes\n",
        "  patas = 4\n",
        "  orejas = 2\n",
        "  ojos = 2\n",
        "  velocidad = 0\n",
        "  # Constructor (Atributos propios)\n",
        "  def __init__(self, raza, pelo=\"Marron\", duenio=False):\n",
        "    self.raza = raza\n",
        "    self.pelo = pelo\n",
        "    self.duenio = duenio\n",
        "  # Metodo andar\n",
        "  def andar(self, aumento_velocidad):\n",
        "    self.velocidad += aumento_velocidad\n",
        "  # Metodo parar\n",
        "  def parar(self):\n",
        "    self.velocidad = 0\n",
        "  # Metodo ladrar\n",
        "  def ladrar(self, entrada):\n",
        "    return \"GUAU! \" + str(entrada)"
      ]
    },
    {
      "cell_type": "code",
      "source": [
        "caniche = Perro(raza = \"Caniche\", pelo = \"Blanco\")\n",
        "print(\"Patas:\", caniche.patas)\n",
        "print(\"Orejas:\", caniche.orejas)\n",
        "print(\"Ojos:\", caniche.ojos)\n",
        "print(\"Velocidad:\", caniche.velocidad)\n",
        "print(\"Raza:\", caniche.raza)\n",
        "print(\"Pelo:\", caniche.pelo)\n",
        "print(\"Dueño:\", caniche.duenio)"
      ],
      "metadata": {
        "colab": {
          "base_uri": "https://localhost:8080/"
        },
        "id": "jPQDqQWRlo4o",
        "outputId": "32071366-50ef-4a61-a636-96c19d861056"
      },
      "execution_count": 37,
      "outputs": [
        {
          "output_type": "stream",
          "name": "stdout",
          "text": [
            "Patas: 4\n",
            "Orejas: 2\n",
            "Ojos: 2\n",
            "Velocidad: 0\n",
            "Raza: Caniche\n",
            "Pelo: Blanco\n",
            "Dueño: False\n"
          ]
        }
      ]
    },
    {
      "cell_type": "code",
      "source": [
        "caniche.andar(10)\n",
        "print(\"Velocidad:\", caniche.velocidad)"
      ],
      "metadata": {
        "colab": {
          "base_uri": "https://localhost:8080/"
        },
        "id": "dvw-JTgDm98Q",
        "outputId": "228da00f-1075-4f65-9fe2-0961908069b6"
      },
      "execution_count": 30,
      "outputs": [
        {
          "output_type": "stream",
          "name": "stdout",
          "text": [
            "Velocidad: 10\n"
          ]
        }
      ]
    },
    {
      "cell_type": "code",
      "source": [
        "caniche.andar(5)\n",
        "print(\"Velocidad:\", caniche.velocidad)"
      ],
      "metadata": {
        "colab": {
          "base_uri": "https://localhost:8080/"
        },
        "id": "WUqMTXAcnAR9",
        "outputId": "343d8309-06b9-437b-9fcc-6b28c88bbfc2"
      },
      "execution_count": 31,
      "outputs": [
        {
          "output_type": "stream",
          "name": "stdout",
          "text": [
            "Velocidad: 15\n"
          ]
        }
      ]
    },
    {
      "cell_type": "code",
      "source": [
        "caniche.parar()\n",
        "print(\"Velocidad:\", caniche.velocidad)"
      ],
      "metadata": {
        "colab": {
          "base_uri": "https://localhost:8080/"
        },
        "id": "Di9sgryinDp2",
        "outputId": "2a22181e-b349-49f1-fbd4-a451ccdb481a"
      },
      "execution_count": 32,
      "outputs": [
        {
          "output_type": "stream",
          "name": "stdout",
          "text": [
            "Velocidad: 0\n"
          ]
        }
      ]
    },
    {
      "cell_type": "code",
      "source": [
        "caniche.ladrar(\"tengo hambre\")"
      ],
      "metadata": {
        "colab": {
          "base_uri": "https://localhost:8080/",
          "height": 35
        },
        "id": "rY5fDouqnP-J",
        "outputId": "572e03f7-c2a1-4f0d-b600-c709bf3d40b1"
      },
      "execution_count": 38,
      "outputs": [
        {
          "output_type": "execute_result",
          "data": {
            "text/plain": [
              "'GUAU! tengo hambre'"
            ],
            "application/vnd.google.colaboratory.intrinsic+json": {
              "type": "string"
            }
          },
          "metadata": {},
          "execution_count": 38
        }
      ]
    }
  ],
  "metadata": {
    "kernelspec": {
      "display_name": "Python 3",
      "language": "python",
      "name": "python3"
    },
    "language_info": {
      "codemirror_mode": {
        "name": "ipython",
        "version": 3
      },
      "file_extension": ".py",
      "mimetype": "text/x-python",
      "name": "python",
      "nbconvert_exporter": "python",
      "pygments_lexer": "ipython3",
      "version": "3.7.9"
    },
    "colab": {
      "provenance": []
    }
  },
  "nbformat": 4,
  "nbformat_minor": 0
}