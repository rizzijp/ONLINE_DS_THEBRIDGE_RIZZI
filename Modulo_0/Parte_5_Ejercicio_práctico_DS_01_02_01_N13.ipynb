{
  "cells": [
    {
      "cell_type": "markdown",
      "metadata": {
        "id": "AyOlWS2nRWxH"
      },
      "source": [
        "## PRACTICA OBLIGATORIA: COLECCIONES Y FUNCIONES"
      ]
    },
    {
      "cell_type": "markdown",
      "metadata": {
        "id": "6UOgb0KVRWxH"
      },
      "source": [
        "* La práctica obligatoria de esta unidad consiste varios ejercicios de programación libre a completar sobre Colecciones y Funciones. Descarga este notebook en tu ordenador y trabaja en local.  \n",
        "* Recuerda que debes subirla a tu repositorio personal antes de la sesión en vivo para que puntúe adecuadamente y puedas participar en dicha sesión.  \n",
        "* Recuerda también que no es necesario que esté perfecta, sólo es necesario que se vea el esfuerzo.\n",
        "* Esta práctica se resolverá en la sesión en vivo correspondiente y la solución se publicará en el repo del curso."
      ]
    },
    {
      "cell_type": "markdown",
      "metadata": {
        "id": "j3yu-tEjRWxH"
      },
      "source": [
        "### Contenidos"
      ]
    },
    {
      "cell_type": "markdown",
      "metadata": {
        "id": "kO-fLH39RWxH"
      },
      "source": [
        "## Ejercicio 1\n",
        "Eleva todos los elementos de la lista al cuadrado\n",
        "> ```ejer_2 = [1,2,3,4,5]```"
      ]
    },
    {
      "cell_type": "code",
      "execution_count": null,
      "metadata": {
        "id": "ks5l3yi7RWxH",
        "colab": {
          "base_uri": "https://localhost:8080/"
        },
        "outputId": "31dde70a-841b-4f21-95b5-b0fca70aec34"
      },
      "outputs": [
        {
          "output_type": "stream",
          "name": "stdout",
          "text": [
            "[1, 2, 3, 4, 5]\n",
            "<class 'list'>\n",
            "1 al cuadrado = 1.0\n",
            "2 al cuadrado = 4.0\n",
            "3 al cuadrado = 9.0\n",
            "4 al cuadrado = 16.0\n",
            "5 al cuadrado = 25.0\n",
            "[1.0, 4.0, 9.0, 16.0, 25.0]\n",
            "<class 'list'>\n"
          ]
        }
      ],
      "source": [
        "import math\n",
        "\n",
        "ejer_2 = [1,2,3,4,5]\n",
        "ejer_2_cuadrado = []\n",
        "print(ejer_2)\n",
        "print(type(ejer_2))\n",
        "for i in range(len(ejer_2)):\n",
        "    x = math.pow(ejer_2[i], 2)\n",
        "    print(ejer_2[i], \"al cuadrado =\", x)\n",
        "    ejer_2_cuadrado.append(x)\n",
        "\n",
        "print(ejer_2_cuadrado)\n",
        "print(type(ejer_2_cuadrado))"
      ]
    },
    {
      "cell_type": "markdown",
      "metadata": {
        "id": "kI_Xr5oFRWxI"
      },
      "source": [
        "## Ejercicio 2\n",
        "Haz un programa que detecte todos los duplicados de un elemento en una lista:\n",
        "* Utiliza una variable duplicado para asignarle el valor del elemento del que queremos encontrar todos sus duplicados.\n",
        "* El programa debe devolver todos los índices de los elementos duplicados.\n",
        "* Aplícalo para encontrar los duplicados de \"un\", \"es\" y \"binario\" de:  \n",
        "\n",
        ">```ejer_3 = [\"Un\", \"árbol\", \"binario\", \"es\", \"una\", \"estructura\", \"de\", \"un\", \"tipo\", \"particular\", \"a\", \"veces\", \"no\", \"es\", \"ni\", \"binario\"]```\n"
      ]
    },
    {
      "cell_type": "code",
      "execution_count": null,
      "metadata": {
        "id": "cLY9WB7YRWxI",
        "colab": {
          "base_uri": "https://localhost:8080/"
        },
        "outputId": "16886a89-ff28-47b2-c4fb-f4073731b0fd"
      },
      "outputs": [
        {
          "output_type": "stream",
          "name": "stdout",
          "text": [
            "La palabra un esta duplicada 1 vez\n",
            "Indice 0\n",
            "Indice 7\n",
            "La palabra es esta duplicada 1 vez\n",
            "Indice 3\n",
            "Indice 13\n",
            "La palabra binario esta duplicada 1 vez\n",
            "Indice 2\n",
            "Indice 15\n"
          ]
        }
      ],
      "source": [
        "ejer_3 = [\"Un\", \"árbol\", \"binario\", \"es\", \"una\", \"estructura\", \"de\", \"un\", \"tipo\", \"particular\", \"a\", \"veces\", \"no\", \"es\", \"ni\", \"binario\"]\n",
        "\n",
        "lista_duplicados = [\"un\", \"es\", \"binario\"]\n",
        "\n",
        "for duplicado in lista_duplicados:\n",
        "  contador = 0\n",
        "  for i in range(len(ejer_3)):\n",
        "      if ejer_3[i].lower() == duplicado:\n",
        "          contador += 1\n",
        "  if contador > 1:\n",
        "    print(\"La palabra\", duplicado, \"esta duplicada\", contador-1, \"vez\")\n",
        "    for i in range(len(ejer_3)):\n",
        "        if ejer_3[i].lower() == duplicado:\n",
        "            print(\"Indice\", i)"
      ]
    },
    {
      "cell_type": "markdown",
      "metadata": {
        "id": "3WrBd5QaRWxI"
      },
      "source": [
        "## Ejercicio 3\n",
        "1. ¿Cuántas veces se repite el 3 en la siguiente tupla?\n",
        "2. Crea una tupla nueva con los elementos desde la posicion 5 a la 10.\n",
        "3. ¿Cuántos elementos tiene la tupla `ejer_3`?\n",
        "> ```ejer_9 = (3, 20, 3, 47, 19, 3, 29, 45, 67, 78, 90, 3, 3, 5, 2, 4, 7, 9, 4, 2, 4, 3, 3, 4, 6, 7)```"
      ]
    },
    {
      "cell_type": "code",
      "execution_count": null,
      "metadata": {
        "id": "bkv_R5LYRWxI",
        "colab": {
          "base_uri": "https://localhost:8080/"
        },
        "outputId": "373961cf-becd-42b0-a21d-229634353c72"
      },
      "outputs": [
        {
          "output_type": "execute_result",
          "data": {
            "text/plain": [
              "7"
            ]
          },
          "metadata": {},
          "execution_count": 44
        }
      ],
      "source": [
        "ejer_9 = (3, 20, 3, 47, 19, 3, 29, 45, 67, 78, 90, 3, 3, 5, 2, 4, 7, 9, 4, 2, 4, 3, 3, 4, 6, 7)\n",
        "\n",
        "ejer_9.count(3)"
      ]
    },
    {
      "cell_type": "code",
      "source": [
        "nueva_tupla = ejer_9[4:10]\n",
        "print(nueva_tupla, type(nueva_tupla))"
      ],
      "metadata": {
        "colab": {
          "base_uri": "https://localhost:8080/"
        },
        "id": "aBZlJxnu1lvG",
        "outputId": "681d84c4-712b-44b0-c187-17f3bda3b123"
      },
      "execution_count": null,
      "outputs": [
        {
          "output_type": "stream",
          "name": "stdout",
          "text": [
            "(19, 3, 29, 45, 67, 78) <class 'tuple'>\n"
          ]
        }
      ]
    },
    {
      "cell_type": "code",
      "source": [
        "len(ejer_9)"
      ],
      "metadata": {
        "colab": {
          "base_uri": "https://localhost:8080/"
        },
        "id": "znlcJmDg2ZWn",
        "outputId": "1d6d261e-4bd3-4d23-b975-74b9ebfe83c3"
      },
      "execution_count": null,
      "outputs": [
        {
          "output_type": "execute_result",
          "data": {
            "text/plain": [
              "26"
            ]
          },
          "metadata": {},
          "execution_count": 37
        }
      ]
    },
    {
      "cell_type": "code",
      "source": [
        "len(ejer_3)"
      ],
      "metadata": {
        "colab": {
          "base_uri": "https://localhost:8080/"
        },
        "id": "qB5Z6cdI2___",
        "outputId": "d93aa3a1-4237-4118-afdf-d09f16a6b092"
      },
      "execution_count": null,
      "outputs": [
        {
          "output_type": "execute_result",
          "data": {
            "text/plain": [
              "16"
            ]
          },
          "metadata": {},
          "execution_count": 38
        }
      ]
    },
    {
      "cell_type": "markdown",
      "metadata": {
        "id": "6g8Y54AeRWxI"
      },
      "source": [
        "## Ejercicio 4\n",
        "Comprueba si el numero 60 esta en la tupla del ejercicio 3"
      ]
    },
    {
      "cell_type": "code",
      "execution_count": null,
      "metadata": {
        "id": "F8VTEZonRWxI",
        "colab": {
          "base_uri": "https://localhost:8080/"
        },
        "outputId": "3fd8ac58-99ec-413f-89cc-7305784175b3"
      },
      "outputs": [
        {
          "output_type": "stream",
          "name": "stdout",
          "text": [
            "El numero 60 no esta en la tupla\n"
          ]
        }
      ],
      "source": [
        "numero = 60\n",
        "\n",
        "if ejer_9.count(numero) > 0:\n",
        "  print(f\"El numero {numero} esta en la tupla\")\n",
        "else:\n",
        "  print(f\"El numero {numero} no esta en la tupla\")"
      ]
    },
    {
      "cell_type": "markdown",
      "metadata": {
        "id": "y0fg-ZA6RWxI"
      },
      "source": [
        "## Ejercicio 5\n",
        "1. Convierte la tupla del ejercicio 3 en una lista\n",
        "2. Convierte la tupla del ejercicio 3 en un set\n",
        "3. Convierte la tupla del ejercicio 3 en un diccionario. Usa también los indices"
      ]
    },
    {
      "cell_type": "code",
      "execution_count": null,
      "metadata": {
        "id": "_O5hXr01RWxI",
        "colab": {
          "base_uri": "https://localhost:8080/"
        },
        "outputId": "8a406230-55d0-4e58-e0c8-49056d696d9d"
      },
      "outputs": [
        {
          "output_type": "stream",
          "name": "stdout",
          "text": [
            "(3, 20, 3, 47, 19, 3, 29, 45, 67, 78, 90, 3, 3, 5, 2, 4, 7, 9, 4, 2, 4, 3, 3, 4, 6, 7) <class 'tuple'>\n",
            "[3, 20, 3, 47, 19, 3, 29, 45, 67, 78, 90, 3, 3, 5, 2, 4, 7, 9, 4, 2, 4, 3, 3, 4, 6, 7] <class 'list'>\n",
            "{2, 3, 67, 5, 4, 7, 6, 9, 45, 78, 47, 19, 20, 90, 29} <class 'set'>\n",
            "{0: 3, 1: 20, 2: 3, 3: 47, 4: 19, 5: 3, 6: 29, 7: 45, 8: 67, 9: 78, 10: 90, 11: 3, 12: 3, 13: 5, 14: 2, 15: 4, 16: 7, 17: 9, 18: 4, 19: 2, 20: 4, 21: 3, 22: 3, 23: 4, 24: 6, 25: 7} <class 'dict'>\n"
          ]
        }
      ],
      "source": [
        "print(ejer_9, type(ejer_9))\n",
        "lista_ejer_9 = list(ejer_9)\n",
        "print(lista_ejer_9, type(lista_ejer_9))\n",
        "set_ejer_9 = set(ejer_9)\n",
        "print(set_ejer_9, type(set_ejer_9))\n",
        "\n",
        "dict_ejer_9 = dict(enumerate(ejer_9))\n",
        "print(dict_ejer_9, type(dict_ejer_9))"
      ]
    },
    {
      "cell_type": "markdown",
      "metadata": {
        "id": "eOdWWbxvRWxJ"
      },
      "source": [
        "## Ejercicio 6\n",
        "Multiplica todos los valores del diccionario\n",
        "> ```ejer_6 = {1: 11, 2: 22, 3: 33, 4: 44, 5: 55}```"
      ]
    },
    {
      "cell_type": "code",
      "source": [
        "ejer_6 = {1: 11, 2: 22, 3: 33, 4: 44, 5: 55}\n",
        "multiplicacion = 1\n",
        "for i in ejer_6:\n",
        "  multiplicacion = ejer_6[i] * multiplicacion\n",
        "\n",
        "print(multiplicacion)"
      ],
      "metadata": {
        "colab": {
          "base_uri": "https://localhost:8080/"
        },
        "id": "1vQwmUzvAoR_",
        "outputId": "620cf3c9-2d1d-4933-f3bc-aea7db195b80"
      },
      "execution_count": null,
      "outputs": [
        {
          "output_type": "stream",
          "name": "stdout",
          "text": [
            "19326120\n"
          ]
        }
      ]
    },
    {
      "cell_type": "markdown",
      "metadata": {
        "id": "W7TUSaKRRWxJ"
      },
      "source": [
        "## Ejercicio 7\n",
        "\n",
        "1. Crea un diccionario que describa un libro, con los siguientes campos o claves: \"titulo\",\"autor\",\"idioma original\",\"año de publicación\".\n",
        "2. Crea un a lista, llamada librería.\n",
        "3. Añade cuatro libros a tu elección a la librería."
      ]
    },
    {
      "cell_type": "code",
      "execution_count": null,
      "metadata": {
        "vscode": {
          "languageId": "plaintext"
        },
        "id": "d-IMRvxRRWxJ",
        "colab": {
          "base_uri": "https://localhost:8080/"
        },
        "outputId": "db9bd118-9011-4773-fbd5-d5e18effd825"
      },
      "outputs": [
        {
          "output_type": "stream",
          "name": "stdout",
          "text": [
            "[{'titulo': 'Habitos Atomicos', 'autor': 'James Clear', 'idioma original': 'ingles', 'año de publicacion': '2018'}, {'titulo': 'Despertando al gigante interior', 'autor': 'Tony Robbins', 'idioma original': 'ingles', 'año de publicacion': '1991'}, {'titulo': 'Biografía del silencio', 'autor': \"Pablo d'Ors\", 'idioma original': 'español', 'año de publicacion': '2012'}, {'titulo': 'El Hombre Que Era Jueves', 'autor': 'G. K. Chesterton', 'idioma original': 'ingles', 'año de publicacion': '1908'}]\n",
            "<class 'list'>\n"
          ]
        }
      ],
      "source": [
        "libro_1 = {\n",
        "    \"titulo\": \"Habitos Atomicos\",\n",
        "    \"autor\": \"James Clear\",\n",
        "    \"idioma original\": \"ingles\",\n",
        "    \"año de publicacion\": \"2018\"}\n",
        "\n",
        "libro_2 = {\n",
        "    \"titulo\": \"Despertando al gigante interior\",\n",
        "    \"autor\": \"Tony Robbins\",\n",
        "    \"idioma original\": \"ingles\",\n",
        "    \"año de publicacion\": \"1991\"}\n",
        "\n",
        "libro_3 = {\n",
        "    \"titulo\": \"Biografía del silencio\",\n",
        "    \"autor\": \"Pablo d'Ors\",\n",
        "    \"idioma original\": \"español\",\n",
        "    \"año de publicacion\": \"2012\"}\n",
        "\n",
        "libro_4 = {\n",
        "    \"titulo\": \"El Hombre Que Era Jueves\",\n",
        "    \"autor\": \"G. K. Chesterton\",\n",
        "    \"idioma original\": \"ingles\",\n",
        "    \"año de publicacion\": \"1908\"}\n",
        "\n",
        "libreria = []\n",
        "libreria.append(libro_1)\n",
        "libreria.append(libro_2)\n",
        "libreria.append(libro_3)\n",
        "libreria.append(libro_4)\n",
        "print(libreria)\n",
        "print(type(libreria))"
      ]
    },
    {
      "cell_type": "markdown",
      "metadata": {
        "id": "glMoedjYRWxJ"
      },
      "source": [
        "## Ejercicio 8\n",
        "Modifica los valores del idioma de todos los libros del ejercicio anterior para que sea \"esperanto\"\n"
      ]
    },
    {
      "cell_type": "code",
      "execution_count": null,
      "metadata": {
        "id": "veNdC-uwRWxJ",
        "colab": {
          "base_uri": "https://localhost:8080/"
        },
        "outputId": "480d973f-231e-48a7-c0b9-de6b2167ae33"
      },
      "outputs": [
        {
          "output_type": "stream",
          "name": "stdout",
          "text": [
            "[{'titulo': 'Habitos Atomicos', 'autor': 'James Clear', 'idioma original': 'esperanto', 'año de publicacion': '2018'}, {'titulo': 'Despertando al gigante interior', 'autor': 'Tony Robbins', 'idioma original': 'esperanto', 'año de publicacion': '1991'}, {'titulo': 'Biografía del silencio', 'autor': \"Pablo d'Ors\", 'idioma original': 'esperanto', 'año de publicacion': '2012'}, {'titulo': 'El Hombre Que Era Jueves', 'autor': 'G. K. Chesterton', 'idioma original': 'esperanto', 'año de publicacion': '1908'}]\n"
          ]
        }
      ],
      "source": [
        "for i in range(len(libreria)):\n",
        "  libreria[i][\"idioma original\"] = \"esperanto\"\n",
        "print(libreria)"
      ]
    },
    {
      "cell_type": "markdown",
      "metadata": {
        "id": "DRCJG04KRWxJ"
      },
      "source": [
        "## Ejercicio 9\n",
        "1. Escribe un programa que dada una variable titulo busque los libros que hay en la librería con ese título. Si no se encuentra debe devolver el mensaje `Ese no lo tengo, ¿mola?`\n",
        "2. Pruena que el programa con uno de tus libros y con otro que no contenga tu librería."
      ]
    },
    {
      "cell_type": "code",
      "execution_count": null,
      "metadata": {
        "id": "eWHdJi9BRWxJ",
        "colab": {
          "base_uri": "https://localhost:8080/"
        },
        "outputId": "47b768a6-d7bf-4f71-998f-b7e66cc811d9"
      },
      "outputs": [
        {
          "output_type": "stream",
          "name": "stdout",
          "text": [
            "Introduce el titulo del libro: Despertando al gigante interior\n",
            "{'titulo': 'Despertando al gigante interior', 'autor': 'Tony Robbins', 'idioma original': 'esperanto', 'año de publicacion': '1991'}\n"
          ]
        }
      ],
      "source": [
        "titulo = input(\"Introduce el titulo del libro: \")\n",
        "disponible = False\n",
        "for i in range(len(libreria)):\n",
        "  if libreria[i][\"titulo\"] == titulo:\n",
        "    disponible = True\n",
        "    print(libreria[i])\n",
        "    break\n",
        "if disponible == False:\n",
        "    print(\"Ese no lo tengo, ¿mola?\")"
      ]
    },
    {
      "cell_type": "code",
      "source": [
        "titulo = input(\"Introduce el titulo del libro: \")\n",
        "disponible = False\n",
        "for i in range(len(libreria)):\n",
        "  if libreria[i][\"titulo\"] == titulo:\n",
        "    disponible = True\n",
        "    print(libreria[i])\n",
        "    break\n",
        "if disponible == False:\n",
        "    print(\"Ese no lo tengo, ¿mola?\")"
      ],
      "metadata": {
        "colab": {
          "base_uri": "https://localhost:8080/"
        },
        "id": "eP1-iOVoGN5B",
        "outputId": "51628892-a544-4831-ce55-5a1e1ebdbbbd"
      },
      "execution_count": null,
      "outputs": [
        {
          "output_type": "stream",
          "name": "stdout",
          "text": [
            "Introduce el titulo del libro: La pregunta de sus ojos\n",
            "Ese no lo tengo, ¿mola?\n"
          ]
        }
      ]
    },
    {
      "cell_type": "markdown",
      "metadata": {
        "id": "17YOpYuFRWxJ"
      },
      "source": [
        "## Ejercicio 10\n",
        "Convierte el programa del ejercicio 2 en una función al que se le pase el valor a buscar como un argumento posicional"
      ]
    },
    {
      "cell_type": "code",
      "execution_count": null,
      "metadata": {
        "id": "xbj0LgvnRWxJ",
        "colab": {
          "base_uri": "https://localhost:8080/"
        },
        "outputId": "205d1265-88a2-4dca-8718-16fd6f859b48"
      },
      "outputs": [
        {
          "output_type": "stream",
          "name": "stdout",
          "text": [
            "La palabra un esta duplicada 1 vez\n",
            "Indice 0\n",
            "Indice 7\n",
            "La palabra es esta duplicada 1 vez\n",
            "Indice 3\n",
            "Indice 13\n",
            "La palabra binario esta duplicada 1 vez\n",
            "Indice 2\n",
            "Indice 15\n"
          ]
        }
      ],
      "source": [
        "ejer_3 = [\"Un\", \"árbol\", \"binario\", \"es\", \"una\", \"estructura\", \"de\", \"un\", \"tipo\", \"particular\", \"a\", \"veces\", \"no\", \"es\", \"ni\", \"binario\"]\n",
        "\n",
        "def duplicados(lista, valor):\n",
        "\n",
        "    contador = 0\n",
        "    for i in range(len(lista)):\n",
        "        if lista[i].lower() == valor:\n",
        "            contador += 1\n",
        "    if contador > 1:\n",
        "      print(\"La palabra\", valor, \"esta duplicada\", contador-1, \"vez\")\n",
        "      for i in range(len(lista)):\n",
        "          if lista[i].lower() == valor:\n",
        "              print(\"Indice\", i)\n",
        "\n",
        "\n",
        "duplicados(ejer_3, \"un\")\n",
        "duplicados(ejer_3, \"es\")\n",
        "duplicados(ejer_3, \"binario\")"
      ]
    },
    {
      "cell_type": "markdown",
      "metadata": {
        "id": "xZ-sWJxPRWxJ"
      },
      "source": [
        "## Ejercicio 11\n",
        "Convierte el programa del ejercicio 9 en una función al que se le pasen como argumentos la librería, posicional, y el título, argumento keyword con valor \"ninguno\", por defecto."
      ]
    },
    {
      "cell_type": "code",
      "execution_count": null,
      "metadata": {
        "id": "4-JrsMdNRWxK",
        "colab": {
          "base_uri": "https://localhost:8080/"
        },
        "outputId": "fbf6e404-62c1-4097-b542-b9587613756d"
      },
      "outputs": [
        {
          "output_type": "stream",
          "name": "stdout",
          "text": [
            "Ese no lo tengo, ¿mola?\n",
            "{'titulo': 'Despertando al gigante interior', 'autor': 'Tony Robbins', 'idioma original': 'esperanto', 'año de publicacion': '1991'}\n",
            "Ese no lo tengo, ¿mola?\n"
          ]
        }
      ],
      "source": [
        "def buscar_libro(libreria, titulo=\"ninguno\"):\n",
        "  disponible = False\n",
        "  for i in range(len(libreria)):\n",
        "    if libreria[i][\"titulo\"] == titulo:\n",
        "      disponible = True\n",
        "      print(libreria[i])\n",
        "      break\n",
        "  if disponible == False:\n",
        "      print(\"Ese no lo tengo, ¿mola?\")\n",
        "\n",
        "buscar_libro(libreria)\n",
        "buscar_libro(libreria, \"Despertando al gigante interior\")\n",
        "buscar_libro(libreria, \"La pregunta de sus ojos\")"
      ]
    },
    {
      "cell_type": "markdown",
      "metadata": {
        "id": "FtJir95QRWxK"
      },
      "source": [
        "## Ejercicio 12\n",
        "Solicitar al usuario que ingrese su dirección email. Imprimir un mensaje indicando si la dirección es válida o no, valiéndose de una función para decidirlo. Una dirección se considerará válida si contiene el símbolo \"@\"."
      ]
    },
    {
      "cell_type": "code",
      "execution_count": null,
      "metadata": {
        "id": "sk852IZ8RWxK",
        "colab": {
          "base_uri": "https://localhost:8080/"
        },
        "outputId": "3066d563-745b-4708-a031-7ce7a5dbef08"
      },
      "outputs": [
        {
          "output_type": "stream",
          "name": "stdout",
          "text": [
            "Introduce tu email: rizzijpr.gmail.com\n",
            "El email no es valido\n",
            "Introduce tu email: rizzijpr@gmail.com\n",
            "El email es valido\n"
          ]
        }
      ],
      "source": [
        "email = input(\"Introduce tu email: \")\n",
        "\n",
        "def validar_email(email):\n",
        "  if \"@\" in email:\n",
        "    print(\"El email es valido\")\n",
        "  else:\n",
        "    print(\"El email no es valido\")\n",
        "\n",
        "validar_email(email)\n",
        "validar_email(input(\"Introduce tu email: \"))"
      ]
    },
    {
      "cell_type": "markdown",
      "metadata": {
        "id": "Kw1MWBwBRWxK"
      },
      "source": [
        "## Ejercicio 13\n",
        "Escribe una función que compruebe si un DNI es válido, devolviendo `True` en caso afirmativo.  \n",
        "En primer lugar, el DNI debe tener entre 7 y 8 dígitos numéricos.  \n",
        "Para saber si la letra del DNI es correcta puedes utilizar el siguiente fragmento de código:\n",
        ">```Python\n",
        ">DNI= 55555555\n",
        ">palabra='TRWAGMYFPDXBNJZSQVHLCKE'\n",
        ">print('La letra del DNI es: ', palabra[DNI%23])\n",
        ">````\n"
      ]
    },
    {
      "cell_type": "code",
      "execution_count": 9,
      "metadata": {
        "id": "F5Z9rSHqRWxK",
        "colab": {
          "base_uri": "https://localhost:8080/"
        },
        "outputId": "67aa1f12-da4b-4d5d-f5f4-fe2ad289830c"
      },
      "outputs": [
        {
          "output_type": "stream",
          "name": "stdout",
          "text": [
            "La letra del DNI es:  N\n"
          ]
        }
      ],
      "source": [
        "DNI= 55557777\n",
        "palabra='TRWAGMYFPDXBNJZSQVHLCKE'\n",
        "print('La letra del DNI es: ', palabra[DNI%23])"
      ]
    },
    {
      "cell_type": "code",
      "source": [
        "def validar_dni(dni):\n",
        "  \"\"\"\n",
        "  Comprueba si un DNI es válido.\n",
        "\n",
        "  Args:\n",
        "    dni: Una cadena que representa el DNI.\n",
        "\n",
        "  Returns:\n",
        "    True si el DNI es válido, False en caso contrario.\n",
        "  \"\"\"\n",
        "  print(dni, type(dni))\n",
        "\n",
        "  if not (8 <= len(dni) <= 9):\n",
        "    print(\"El DNI debe tener entre 7 y 8 dígitos numéricos y una letra.\")\n",
        "    return False\n",
        "\n",
        "  try:\n",
        "    dni_numero = int(dni[:-1])\n",
        "    print(dni_numero, type(dni_numero))\n",
        "    dni_letra = dni[-1].upper()\n",
        "    print(dni_letra, type(dni_letra))\n",
        "    if not dni_letra.isalpha():\n",
        "        print(\"El último carácter del DNI debe ser una letra.\")\n",
        "        return False\n",
        "  except ValueError:\n",
        "    print(\"El DNI debe contener solo dígitos numéricos seguidos de una letra.\")\n",
        "    return False\n",
        "\n",
        "  palabra = 'TRWAGMYFPDXBNJZSQVHLCKE'\n",
        "  letra_correcta = palabra[dni_numero % 23]\n",
        "\n",
        "  if letra_correcta == dni_letra:\n",
        "    print(\"El DNI es válido.\")\n",
        "    return True\n",
        "  else:\n",
        "    print(\"El DNI no es válido.\")\n",
        "    return False\n",
        "\n",
        "# Prueba la función con DNI válidos e inválidos\n",
        "print(validar_dni(input(\"Ingresa tu DNI: \")))\n",
        "print(\"-\"*50)\n",
        "print(validar_dni(\"12345678A\"))\n",
        "print(\"-\"*50)\n",
        "print(validar_dni(\"1234567Z\"))\n",
        "print(\"-\"*50)\n",
        "print(validar_dni(\"123456789\"))\n",
        "print(\"-\"*50)\n",
        "print(validar_dni(\"55555555\"))\n",
        "print(\"-\"*50)\n",
        "print(validar_dni(\"12345678A1\"))\n",
        "print(\"-\"*50)\n",
        "print(validar_dni(\"123456A22\"))\n",
        "print(\"-\"*50)\n",
        "print(validar_dni(\"55555555K\"))"
      ],
      "metadata": {
        "colab": {
          "base_uri": "https://localhost:8080/"
        },
        "id": "yx3XrmldLp0D",
        "outputId": "4161df25-7cd3-46ec-99d8-d7247a3f666f"
      },
      "execution_count": 12,
      "outputs": [
        {
          "output_type": "stream",
          "name": "stdout",
          "text": [
            "Ingresa tu DNI: 55557777N\n",
            "55557777N <class 'str'>\n",
            "55557777 <class 'int'>\n",
            "N <class 'str'>\n",
            "El DNI es válido.\n",
            "True\n",
            "--------------------------------------------------\n",
            "12345678A <class 'str'>\n",
            "12345678 <class 'int'>\n",
            "A <class 'str'>\n",
            "El DNI no es válido.\n",
            "False\n",
            "--------------------------------------------------\n",
            "1234567Z <class 'str'>\n",
            "1234567 <class 'int'>\n",
            "Z <class 'str'>\n",
            "El DNI no es válido.\n",
            "False\n",
            "--------------------------------------------------\n",
            "123456789 <class 'str'>\n",
            "12345678 <class 'int'>\n",
            "9 <class 'str'>\n",
            "El último carácter del DNI debe ser una letra.\n",
            "False\n",
            "--------------------------------------------------\n",
            "55555555 <class 'str'>\n",
            "5555555 <class 'int'>\n",
            "5 <class 'str'>\n",
            "El último carácter del DNI debe ser una letra.\n",
            "False\n",
            "--------------------------------------------------\n",
            "12345678A1 <class 'str'>\n",
            "El DNI debe tener entre 7 y 8 dígitos numéricos y una letra.\n",
            "False\n",
            "--------------------------------------------------\n",
            "123456A22 <class 'str'>\n",
            "El DNI debe contener solo dígitos numéricos seguidos de una letra.\n",
            "False\n",
            "--------------------------------------------------\n",
            "55555555K <class 'str'>\n",
            "55555555 <class 'int'>\n",
            "K <class 'str'>\n",
            "El DNI es válido.\n",
            "True\n"
          ]
        }
      ]
    }
  ],
  "metadata": {
    "language_info": {
      "name": "python"
    },
    "orig_nbformat": 4,
    "colab": {
      "provenance": []
    },
    "kernelspec": {
      "name": "python3",
      "display_name": "Python 3"
    }
  },
  "nbformat": 4,
  "nbformat_minor": 0
}